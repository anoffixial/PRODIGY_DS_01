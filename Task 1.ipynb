{
 "cells": [
  {
   "cell_type": "code",
   "execution_count": 3,
   "id": "d6cf672b",
   "metadata": {},
   "outputs": [],
   "source": [
    "import pandas as pd\n",
    "import matplotlib.pyplot as plt\n",
    "import numpy as np"
   ]
  },
  {
   "cell_type": "code",
   "execution_count": 8,
   "id": "76d27d1c",
   "metadata": {},
   "outputs": [],
   "source": [
    "df=pd.read_csv('E:\\AN\\WORK\\Prodigy InfoTech Data Science\\Billionaires Stats.csv')"
   ]
  },
  {
   "cell_type": "code",
   "execution_count": 9,
   "id": "1d3b7499",
   "metadata": {},
   "outputs": [
    {
     "data": {
      "text/html": [
       "<div>\n",
       "<style scoped>\n",
       "    .dataframe tbody tr th:only-of-type {\n",
       "        vertical-align: middle;\n",
       "    }\n",
       "\n",
       "    .dataframe tbody tr th {\n",
       "        vertical-align: top;\n",
       "    }\n",
       "\n",
       "    .dataframe thead th {\n",
       "        text-align: right;\n",
       "    }\n",
       "</style>\n",
       "<table border=\"1\" class=\"dataframe\">\n",
       "  <thead>\n",
       "    <tr style=\"text-align: right;\">\n",
       "      <th></th>\n",
       "      <th>rank</th>\n",
       "      <th>finalWorth</th>\n",
       "      <th>category</th>\n",
       "      <th>personName</th>\n",
       "      <th>age</th>\n",
       "      <th>country</th>\n",
       "      <th>gender</th>\n",
       "      <th>source</th>\n",
       "      <th>status</th>\n",
       "    </tr>\n",
       "  </thead>\n",
       "  <tbody>\n",
       "    <tr>\n",
       "      <th>0</th>\n",
       "      <td>1</td>\n",
       "      <td>211000</td>\n",
       "      <td>Fashion &amp; Retail</td>\n",
       "      <td>Bernard Arnault &amp; family</td>\n",
       "      <td>74.0</td>\n",
       "      <td>France</td>\n",
       "      <td>M</td>\n",
       "      <td>LVMH</td>\n",
       "      <td>U</td>\n",
       "    </tr>\n",
       "    <tr>\n",
       "      <th>1</th>\n",
       "      <td>2</td>\n",
       "      <td>180000</td>\n",
       "      <td>Automotive</td>\n",
       "      <td>Elon Musk</td>\n",
       "      <td>51.0</td>\n",
       "      <td>United States</td>\n",
       "      <td>M</td>\n",
       "      <td>Tesla, SpaceX</td>\n",
       "      <td>D</td>\n",
       "    </tr>\n",
       "    <tr>\n",
       "      <th>2</th>\n",
       "      <td>3</td>\n",
       "      <td>114000</td>\n",
       "      <td>Technology</td>\n",
       "      <td>Jeff Bezos</td>\n",
       "      <td>59.0</td>\n",
       "      <td>United States</td>\n",
       "      <td>M</td>\n",
       "      <td>Amazon</td>\n",
       "      <td>D</td>\n",
       "    </tr>\n",
       "    <tr>\n",
       "      <th>3</th>\n",
       "      <td>4</td>\n",
       "      <td>107000</td>\n",
       "      <td>Technology</td>\n",
       "      <td>Larry Ellison</td>\n",
       "      <td>78.0</td>\n",
       "      <td>United States</td>\n",
       "      <td>M</td>\n",
       "      <td>Oracle</td>\n",
       "      <td>U</td>\n",
       "    </tr>\n",
       "    <tr>\n",
       "      <th>4</th>\n",
       "      <td>5</td>\n",
       "      <td>106000</td>\n",
       "      <td>Finance &amp; Investments</td>\n",
       "      <td>Warren Buffett</td>\n",
       "      <td>92.0</td>\n",
       "      <td>United States</td>\n",
       "      <td>M</td>\n",
       "      <td>Berkshire Hathaway</td>\n",
       "      <td>D</td>\n",
       "    </tr>\n",
       "    <tr>\n",
       "      <th>5</th>\n",
       "      <td>6</td>\n",
       "      <td>104000</td>\n",
       "      <td>Technology</td>\n",
       "      <td>Bill Gates</td>\n",
       "      <td>67.0</td>\n",
       "      <td>United States</td>\n",
       "      <td>M</td>\n",
       "      <td>Microsoft</td>\n",
       "      <td>D</td>\n",
       "    </tr>\n",
       "    <tr>\n",
       "      <th>6</th>\n",
       "      <td>7</td>\n",
       "      <td>94500</td>\n",
       "      <td>Media &amp; Entertainment</td>\n",
       "      <td>Michael Bloomberg</td>\n",
       "      <td>81.0</td>\n",
       "      <td>United States</td>\n",
       "      <td>M</td>\n",
       "      <td>Bloomberg LP</td>\n",
       "      <td>U</td>\n",
       "    </tr>\n",
       "    <tr>\n",
       "      <th>7</th>\n",
       "      <td>8</td>\n",
       "      <td>93000</td>\n",
       "      <td>Telecom</td>\n",
       "      <td>Carlos Slim Helu &amp; family</td>\n",
       "      <td>83.0</td>\n",
       "      <td>Mexico</td>\n",
       "      <td>M</td>\n",
       "      <td>Telecom</td>\n",
       "      <td>U</td>\n",
       "    </tr>\n",
       "    <tr>\n",
       "      <th>8</th>\n",
       "      <td>9</td>\n",
       "      <td>83400</td>\n",
       "      <td>Diversified</td>\n",
       "      <td>Mukesh Ambani</td>\n",
       "      <td>65.0</td>\n",
       "      <td>India</td>\n",
       "      <td>M</td>\n",
       "      <td>Diversified</td>\n",
       "      <td>D</td>\n",
       "    </tr>\n",
       "    <tr>\n",
       "      <th>9</th>\n",
       "      <td>10</td>\n",
       "      <td>80700</td>\n",
       "      <td>Technology</td>\n",
       "      <td>Steve Ballmer</td>\n",
       "      <td>67.0</td>\n",
       "      <td>United States</td>\n",
       "      <td>M</td>\n",
       "      <td>Microsoft</td>\n",
       "      <td>D</td>\n",
       "    </tr>\n",
       "  </tbody>\n",
       "</table>\n",
       "</div>"
      ],
      "text/plain": [
       "   rank  finalWorth               category                 personName   age  \\\n",
       "0     1      211000       Fashion & Retail   Bernard Arnault & family  74.0   \n",
       "1     2      180000             Automotive                  Elon Musk  51.0   \n",
       "2     3      114000             Technology                 Jeff Bezos  59.0   \n",
       "3     4      107000             Technology              Larry Ellison  78.0   \n",
       "4     5      106000  Finance & Investments             Warren Buffett  92.0   \n",
       "5     6      104000             Technology                 Bill Gates  67.0   \n",
       "6     7       94500  Media & Entertainment          Michael Bloomberg  81.0   \n",
       "7     8       93000                Telecom  Carlos Slim Helu & family  83.0   \n",
       "8     9       83400            Diversified              Mukesh Ambani  65.0   \n",
       "9    10       80700             Technology              Steve Ballmer  67.0   \n",
       "\n",
       "         country gender              source status  \n",
       "0         France      M                LVMH      U  \n",
       "1  United States      M       Tesla, SpaceX      D  \n",
       "2  United States      M              Amazon      D  \n",
       "3  United States      M              Oracle      U  \n",
       "4  United States      M  Berkshire Hathaway      D  \n",
       "5  United States      M           Microsoft      D  \n",
       "6  United States      M        Bloomberg LP      U  \n",
       "7         Mexico      M             Telecom      U  \n",
       "8          India      M         Diversified      D  \n",
       "9  United States      M           Microsoft      D  "
      ]
     },
     "execution_count": 9,
     "metadata": {},
     "output_type": "execute_result"
    }
   ],
   "source": [
    "df.head(10)"
   ]
  },
  {
   "cell_type": "code",
   "execution_count": 10,
   "id": "7cefe7b6",
   "metadata": {},
   "outputs": [],
   "source": [
    "gender=df['gender'].value_counts()"
   ]
  },
  {
   "cell_type": "code",
   "execution_count": 13,
   "id": "fd14eeda",
   "metadata": {},
   "outputs": [
    {
     "data": {
      "text/plain": [
       "Text(0.5, 1.0, 'Gender of Top 100 Billionaires')"
      ]
     },
     "execution_count": 13,
     "metadata": {},
     "output_type": "execute_result"
    },
    {
     "data": {
      "image/png": "[encoded data removed]",
      "text/plain": [
       "<Figure size 432x288 with 1 Axes>"
      ]
     },
     "metadata": {
      "needs_background": "light"
     },
     "output_type": "display_data"
    }
   ],
   "source": [
    "plt.hist(gender.index)\n",
    "plt.xlabel('Gender')\n",
    "plt.ylabel('Frequency')\n",
    "plt.title('Gender of Top 100 Billionaires',fontsize='19')\n",
    "#plt.show()"
   ]
  }
 ],
 "metadata": {
  "kernelspec": {
   "display_name": "Python 3",
   "language": "python",
   "name": "python3"
  },
  "language_info": {
   "codemirror_mode": {
    "name": "ipython",
    "version": 3
   },
   "file_extension": ".py",
   "mimetype": "text/x-python",
   "name": "python",
   "nbconvert_exporter": "python",
   "pygments_lexer": "ipython3",
   "version": "3.9.1"
  }
 },
 "nbformat": 4,
 "nbformat_minor": 5
}
